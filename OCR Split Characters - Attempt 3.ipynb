{
 "cells": [
  {
   "cell_type": "code",
   "execution_count": 42,
   "metadata": {
    "collapsed": true
   },
   "outputs": [],
   "source": [
    "import imutils\n",
    "import cv2\n",
    "import numpy as np\n",
    "\n",
    "def detectLetters(image,kernelSize,rtvMode,approx):\n",
    "    boundRect = [None]\n",
    "    #image = cv2.imread(inputFilename)\n",
    "    \n",
    " \n",
    "    # convert the image to grayscale, blur it, and find edges\n",
    "    # in the image\n",
    "    gray = cv2.cvtColor(image, cv2.COLOR_BGR2GRAY)\n",
    "    gray = cv2.GaussianBlur(gray, (5, 5), 0)\n",
    "    edged = cv2.Canny(gray, 75, 200)\n",
    " \n",
    "    # show the original image and the edge detected image\n",
    "    cv2.imwrite('dltmeA.png',edged)\n",
    "    print (\"STEP 1: Edge Detection\")\n",
    "\n",
    "    #Binary Dialation\n",
    "    #kernelSize = (17,3)\n",
    "    element = cv2.getStructuringElement (cv2.MORPH_RECT, kernelSize )\n",
    "    img_threshold = cv2.morphologyEx(edged,cv2.MORPH_CLOSE,element)\n",
    "    cv2.imwrite('dltmeB.png',img_threshold)\n",
    "    print('Binary dialation done...')\n",
    "    \n",
    "    #Find Contours\n",
    "    im2,contours,hierarchy = cv2.findContours(img_threshold,rtvMode,approx)\n",
    "    contours_poly = [None]*len(contours)\n",
    "    for i in range(0,len(contours)):\n",
    "        if len(contours[i])>100:            \n",
    "            contours_poly[i]=(cv2.approxPolyDP(contours[i], 3, True))            \n",
    "            x,y,w,h = cv2.boundingRect(contours_poly[i])            \n",
    "            if w>h:\n",
    "                temp = x,y,w,h\n",
    "                boundRect.append(temp)\n",
    "    return boundRect\n",
    "\n",
    "def extractTextArea(inputFile,outputFile,kernelSize,rtvMode,approx):\n",
    "    #implementation    \n",
    "    img = cv2.imread(inputFile)\n",
    "    #ratio = img.shape[0] / 500.0\n",
    "    orig = img.copy()\n",
    "\n",
    "    #img = imutils.resize(img, height = 500)\n",
    "    r = 500.0 / img.shape[1]\n",
    "    dim = (500, int(img.shape[0] * r))\n",
    "    img = cv2.resize(img, dim, interpolation = cv2.INTER_AREA)\n",
    "    \n",
    "    \n",
    "    letterBBoxes=detectLetters(img,kernelSize,rtvMode,approx)\n",
    "    for i in range(0,len(letterBBoxes)-1):\n",
    "        if letterBBoxes[i] != None:        \n",
    "            temp = letterBBoxes[i]\n",
    "            print(temp)\n",
    "            cv2.rectangle(orig,(temp[0],temp[1]),(temp[0]+temp[2],temp[1]+temp[3]),(0,255,0),3)\n",
    "            crop_image = img[temp[1]:temp[1]+temp[3], temp[0]:temp[0]+temp[2]]\n",
    "            filename = 'dltme'+'_'+str(i)+'.png'\n",
    "            print(filename)\n",
    "            #print(filename)            \n",
    "            cv2.imwrite(filename,crop_image)\n",
    "            #print('cropped image created')\n",
    "\n",
    "    cv2.imwrite(outputFile,img)\n",
    "    print('image created')\n"
   ]
  },
  {
   "cell_type": "code",
   "execution_count": 43,
   "metadata": {
    "collapsed": false
   },
   "outputs": [
    {
     "name": "stdout",
     "output_type": "stream",
     "text": [
      "STEP 1: Edge Detection\n",
      "Binary dialation done...\n",
      "image created\n"
     ]
    }
   ],
   "source": [
    "kernelSize = (4,50)\n",
    "extractTextArea('originals/TextArea/Pancard_4.png','originals/dltme1.png',kernelSize,cv2.RETR_TREE,cv2.CHAIN_APPROX_NONE)\n"
   ]
  },
  {
   "cell_type": "code",
   "execution_count": null,
   "metadata": {
    "collapsed": true
   },
   "outputs": [],
   "source": []
  }
 ],
 "metadata": {
  "anaconda-cloud": {},
  "kernelspec": {
   "display_name": "Python [default]",
   "language": "python",
   "name": "python3"
  },
  "language_info": {
   "codemirror_mode": {
    "name": "ipython",
    "version": 3
   },
   "file_extension": ".py",
   "mimetype": "text/x-python",
   "name": "python",
   "nbconvert_exporter": "python",
   "pygments_lexer": "ipython3",
   "version": "3.5.2"
  }
 },
 "nbformat": 4,
 "nbformat_minor": 1
}
