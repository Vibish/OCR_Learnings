{
 "cells": [
  {
   "cell_type": "code",
   "execution_count": 2,
   "metadata": {
    "collapsed": false
   },
   "outputs": [
    {
     "name": "stderr",
     "output_type": "stream",
     "text": [
      "/home/kunjithapathams/anaconda3/lib/python3.5/site-packages/sklearn/cross_validation.py:44: DeprecationWarning: This module was deprecated in version 0.18 in favor of the model_selection module into which all the refactored classes and functions are moved. Also note that the interface of the new CV iterators are different from that of this module. This module will be removed in 0.20.\n",
      "  \"This module will be removed in 0.20.\", DeprecationWarning)\n"
     ]
    }
   ],
   "source": [
    "import numpy as np\n",
    "import pandas as pd\n",
    "import statsmodels.api as sm\n",
    "import matplotlib.pyplot as plt\n",
    "from patsy import dmatrices\n",
    "from sklearn.linear_model import LogisticRegression\n",
    "from sklearn.cross_validation import train_test_split\n",
    "from sklearn import metrics\n",
    "from sklearn.cross_validation import cross_val_score\n",
    "import os\n",
    "import cv2\n",
    "from PIL import Image"
   ]
  },
  {
   "cell_type": "code",
   "execution_count": 4,
   "metadata": {
    "collapsed": false
   },
   "outputs": [
    {
     "name": "stdout",
     "output_type": "stream",
     "text": [
      "Training images created for 0\n",
      "Training images created for 1\n"
     ]
    }
   ],
   "source": [
    "#Build training images\n",
    "path = 'CharSplit/'\n",
    "#Paste the images onto a constant background and blend the images    \n",
    "def setImage(image):\n",
    "    gray_masked = cv2.cvtColor(image,cv2.COLOR_BGR2GRAY)\n",
    "    (thresh, im_bw) = cv2.threshold(gray_masked, 128, 255, cv2.THRESH_BINARY | cv2.THRESH_OTSU)\n",
    "    cv2.imwrite('dltme.png',im_bw)\n",
    "    \n",
    "    img = Image.open('dltme.png','r')\n",
    "    bgimage = Image.new('RGBA',(40,40),(255,255,255,255))\n",
    "    text_pos = (10,10)\n",
    "    bgimage.paste(img,text_pos)\n",
    "    return bgimage\n",
    "\n",
    "for filename in os.listdir(path+'0/'):\n",
    "    image = setImage(cv2.imread(path+'0/'+filename))\n",
    "    image.save('CharSplitTrain/0/'+filename)\n",
    "    \n",
    "print('Training images created for 0')\n",
    "\n",
    "for filename in os.listdir(path+'1/'):\n",
    "    image = setImage(cv2.imread(path+'1/'+filename))\n",
    "    image.save('CharSplitTrain/1/'+filename)\n",
    "    \n",
    "print('Training images created for 1')\n"
   ]
  },
  {
   "cell_type": "code",
   "execution_count": null,
   "metadata": {
    "collapsed": true
   },
   "outputs": [],
   "source": []
  }
 ],
 "metadata": {
  "anaconda-cloud": {},
  "kernelspec": {
   "display_name": "Python [default]",
   "language": "python",
   "name": "python3"
  },
  "language_info": {
   "codemirror_mode": {
    "name": "ipython",
    "version": 3
   },
   "file_extension": ".py",
   "mimetype": "text/x-python",
   "name": "python",
   "nbconvert_exporter": "python",
   "pygments_lexer": "ipython3",
   "version": "3.5.2"
  }
 },
 "nbformat": 4,
 "nbformat_minor": 1
}
