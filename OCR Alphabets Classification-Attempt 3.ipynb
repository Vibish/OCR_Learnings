{
 "cells": [
  {
   "cell_type": "code",
   "execution_count": 1,
   "metadata": {
    "collapsed": false
   },
   "outputs": [
    {
     "name": "stdout",
     "output_type": "stream",
     "text": [
      "/home/kunjithapathams/Desktop/Data Analytics/OCR/Background\n"
     ]
    }
   ],
   "source": [
    "cd Background"
   ]
  },
  {
   "cell_type": "code",
   "execution_count": 2,
   "metadata": {
    "collapsed": true
   },
   "outputs": [],
   "source": [
    "import random\n",
    "from PIL import Image\n",
    "from PIL import ImageFont\n",
    "from PIL import ImageDraw\n",
    "import os\n",
    "from PIL import Image\n",
    "from skimage import io\n",
    "from skimage import transform as tf\n",
    "import scipy.misc\n",
    "import numpy as np\n",
    "import cv2\n"
   ]
  },
  {
   "cell_type": "code",
   "execution_count": 30,
   "metadata": {
    "collapsed": false
   },
   "outputs": [
    {
     "name": "stdout",
     "output_type": "stream",
     "text": [
      "samples created....\n"
     ]
    }
   ],
   "source": [
    "alphanum = ['A','B','C','D','E','F','G','H','I','J','K','L','M','N','O','P','Q','R','S','T','U','V','W','X','Y','Z','0','1','2','3','4','5','6','7','8','9']\n",
    "fntSizes = [20,21,22,23,24,25,26,27,28,29]\n",
    "filename = 'defaultBG.png'\n",
    "def createsamples(text_pos,alpha,fnt,filename,seq):\n",
    "    bgimage = Image.open(filename)\n",
    "    draw  = ImageDraw.Draw(bgimage)\n",
    "    draw.text(text_pos,alpha,font=fnt)\n",
    "    bgimage.save('samples/'+alpha+'_'+str(seq)+'.png')\n",
    "        \n",
    "for alpha in alphanum:\n",
    "    seq = 1\n",
    "    for fntSize in fntSizes:\n",
    "        for i in range (1,50):\n",
    "            if alpha in ['A','B','C','D','E','F','G','H','J','K','L','N','O','P','Q','R','S','T','U','V','X','Y','Z']:\n",
    "                if fntSize == 20:\n",
    "                    text_Pos = (15,15)                \n",
    "                elif fntSize == 21:\n",
    "                    text_Pos = (15,14)\n",
    "                elif fntSize == 22:\n",
    "                    text_Pos = (15,13)\n",
    "                elif fntSize == 23:\n",
    "                    text_Pos = (15,12)\n",
    "                elif fntSize == 24:\n",
    "                    text_Pos = (14,11)\n",
    "                elif fntSize == 25:\n",
    "                    text_Pos = (14,10)\n",
    "                elif fntSize == 28:\n",
    "                    text_Pos = (13,9)    \n",
    "                elif fntSize == 29:\n",
    "                    text_Pos = (12,9)    \n",
    "                elif fntSize in [26,27]:\n",
    "                    text_Pos = (13,9)\n",
    "            \n",
    "            elif alpha in ['M','W']:\n",
    "                if fntSize == 20:\n",
    "                    text_Pos = (16,15)                \n",
    "                elif fntSize == 21:\n",
    "                    text_Pos = (16,14)\n",
    "                elif fntSize == 22:\n",
    "                    text_Pos = (16,13)\n",
    "                elif fntSize == 23:\n",
    "                    text_Pos = (16,12)\n",
    "                elif fntSize == 24:\n",
    "                    text_Pos = (15,11)\n",
    "                elif fntSize == 25:\n",
    "                    text_Pos = (15,10)\n",
    "                elif fntSize == 28:\n",
    "                    text_Pos = (14,9)    \n",
    "                elif fntSize == 29:\n",
    "                    text_Pos = (13,9)    \n",
    "                elif fntSize in [26,27]:\n",
    "                    text_Pos = (14,9)\n",
    "            elif alpha == 'I':\n",
    "                if fntSize == 20:\n",
    "                    text_Pos = (21,15)                \n",
    "                elif fntSize == 21:\n",
    "                    text_Pos = (21,14)\n",
    "                elif fntSize == 22:\n",
    "                    text_Pos = (21,13)\n",
    "                elif fntSize == 23:\n",
    "                    text_Pos = (21,12)\n",
    "                elif fntSize == 24:\n",
    "                    text_Pos = (21,11)\n",
    "                elif fntSize == 25:\n",
    "                    text_Pos = (20,10)\n",
    "                elif fntSize in [26,27,28,29]:\n",
    "                    text_Pos = (20,9)\n",
    "                \n",
    "            elif alpha in ['0','1','2','3','4','5','6','7','8','9']:\n",
    "                if fntSize == 20:\n",
    "                    text_Pos = (17,15)                \n",
    "                elif fntSize == 21:\n",
    "                    text_Pos = (17,14)\n",
    "                elif fntSize == 22:\n",
    "                    text_Pos = (17,13)\n",
    "                elif fntSize == 23:\n",
    "                    text_Pos = (17,12)\n",
    "                elif fntSize == 24:\n",
    "                    text_Pos = (17,11)\n",
    "                elif fntSize == 25:\n",
    "                    text_Pos = (16,10)\n",
    "                elif fntSize in [26,27,28,29]:\n",
    "                    text_Pos = (16,9)\n",
    "                \n",
    "            fnt = ImageFont.truetype('arialbd.ttf', fntSize)\n",
    "            createsamples(text_Pos,alpha,fnt,filename,seq)\n",
    "            seq = seq +1\n",
    "                \n",
    "print ('samples created....')\n",
    "            "
   ]
  },
  {
   "cell_type": "code",
   "execution_count": 33,
   "metadata": {
    "collapsed": false
   },
   "outputs": [
    {
     "name": "stdout",
     "output_type": "stream",
     "text": [
      "noice induced\n"
     ]
    }
   ],
   "source": [
    "def noisy(image):\n",
    "    row,col = image.shape\n",
    "    gauss = np.random.randn(row,col)\n",
    "    gauss = gauss.reshape(row,col)        \n",
    "    noisy = image + image * gauss\n",
    "    return noisy\n",
    "\n",
    "for filename in os.listdir('samples/'):        \n",
    "    image = cv2.imread('samples/'+filename,0)\n",
    "    #image = noisy(image)        \n",
    "    cv2.imwrite('samplesBW/'+filename,image)\n",
    "\n",
    "print('noice induced')\n",
    "\n"
   ]
  },
  {
   "cell_type": "code",
   "execution_count": 45,
   "metadata": {
    "collapsed": false
   },
   "outputs": [
    {
     "name": "stdout",
     "output_type": "stream",
     "text": [
      "start reshaping\n",
      "A\n",
      "B\n",
      "C\n",
      "D\n",
      "E\n",
      "F\n",
      "G\n",
      "H\n",
      "I\n",
      "J\n",
      "K\n",
      "L\n",
      "M\n",
      "N\n",
      "O\n",
      "P\n",
      "Q\n",
      "R\n",
      "S\n",
      "T\n",
      "U\n",
      "V\n",
      "W\n",
      "X\n",
      "Y\n",
      "Z\n",
      "0\n",
      "1\n",
      "2\n",
      "3\n",
      "4\n",
      "5\n",
      "6\n",
      "7\n",
      "8\n",
      "9\n",
      "Reshaping Complete\n",
      "Starting to segregate Training and Validation sets\n",
      "Segregation Completed\n"
     ]
    }
   ],
   "source": [
    "print('start reshaping')\n",
    "alphanum = ['A','B','C','D','E','F','G','H','I','J','K','L','M','N','O','P','Q','R','S','T','U','V','W','X','Y','Z','0','1','2','3','4','5','6','7','8','9']\n",
    "reshaped = np.empty([17640,2500])\n",
    "Y = np.chararray([(len(alphanum))*490,1]) \n",
    "j=0\n",
    "for alpha in alphanum:\n",
    "    print(alpha)\n",
    "    for i in range(1,490):\n",
    "        filename = 'samplesBW/'+alpha+'_'+str(i)+'.png'\n",
    "        image = io.imread(filename,'0')\n",
    "        reshaped[j] = image.reshape(1,2500)\n",
    "        #reshaped = np.concatenate([reshaped,image.reshape(1,2500)])\n",
    "        Y[j] = alpha\n",
    "        j = j+1\n",
    "\n",
    "print('Reshaping Complete')\n",
    "print('Starting to segregate Training and Validation sets')\n",
    "\n",
    "from sklearn.model_selection import train_test_split\n",
    "X_Train,X_Test,Y_Train,Y_Test = train_test_split(reshaped,Y)\n",
    "\n",
    "\n",
    "print('Segregation Completed')"
   ]
  },
  {
   "cell_type": "code",
   "execution_count": 46,
   "metadata": {
    "collapsed": false
   },
   "outputs": [
    {
     "name": "stdout",
     "output_type": "stream",
     "text": [
      "starting to feature scaling\n",
      "Feature Scaling Completed\n",
      "Start training\n"
     ]
    },
    {
     "name": "stderr",
     "output_type": "stream",
     "text": [
      "/home/kunjithapathams/anaconda3/lib/python3.5/site-packages/sklearn/neural_network/multilayer_perceptron.py:904: DataConversionWarning: A column-vector y was passed when a 1d array was expected. Please change the shape of y to (n_samples, ), for example using ravel().\n",
      "  y = column_or_1d(y, warn=True)\n"
     ]
    },
    {
     "name": "stdout",
     "output_type": "stream",
     "text": [
      "Training done...\n",
      "Now start predicting for the validation set\n",
      "Predictions done\n",
      "evaluate the results\n",
      "             precision    recall  f1-score   support\n",
      "\n",
      "        b''       0.67      1.00      0.80         6\n",
      "       b'0'       1.00      1.00      1.00       119\n",
      "       b'1'       1.00      1.00      1.00       116\n",
      "       b'2'       1.00      1.00      1.00       137\n",
      "       b'3'       1.00      1.00      1.00        95\n",
      "       b'4'       1.00      1.00      1.00       138\n",
      "       b'5'       1.00      1.00      1.00       117\n",
      "       b'6'       1.00      1.00      1.00       117\n",
      "       b'7'       1.00      1.00      1.00       116\n",
      "       b'8'       1.00      1.00      1.00       125\n",
      "       b'9'       1.00      1.00      1.00       124\n",
      "       b'?'       0.00      0.00      0.00         1\n",
      "       b'A'       1.00      1.00      1.00       145\n",
      "       b'B'       1.00      1.00      1.00       136\n",
      "       b'C'       1.00      1.00      1.00       123\n",
      "       b'D'       1.00      1.00      1.00       110\n",
      "       b'E'       1.00      1.00      1.00       126\n",
      "       b'F'       1.00      1.00      1.00       112\n",
      "       b'G'       1.00      1.00      1.00       114\n",
      "       b'H'       1.00      1.00      1.00       113\n",
      "       b'I'       1.00      1.00      1.00       117\n",
      "       b'J'       1.00      1.00      1.00       126\n",
      "       b'K'       1.00      1.00      1.00       130\n",
      "       b'L'       1.00      1.00      1.00       124\n",
      "       b'M'       1.00      1.00      1.00       109\n",
      "       b'N'       1.00      1.00      1.00       132\n",
      "       b'O'       1.00      1.00      1.00       128\n",
      "       b'P'       1.00      1.00      1.00       133\n",
      "       b'Q'       1.00      1.00      1.00       113\n",
      "       b'R'       1.00      1.00      1.00       113\n",
      "       b'S'       1.00      1.00      1.00       122\n",
      "       b'T'       1.00      1.00      1.00       133\n",
      "       b'U'       1.00      1.00      1.00       117\n",
      "       b'V'       1.00      1.00      1.00       135\n",
      "       b'W'       1.00      1.00      1.00       112\n",
      "       b'X'       1.00      1.00      1.00       124\n",
      "       b'Y'       1.00      1.00      1.00       130\n",
      "       b'Z'       1.00      1.00      1.00       120\n",
      "    b'\\x9a'       0.00      0.00      0.00         1\n",
      "    b'\\xb9'       0.00      0.00      0.00         1\n",
      "\n",
      "avg / total       1.00      1.00      1.00      4410\n",
      "\n"
     ]
    },
    {
     "name": "stderr",
     "output_type": "stream",
     "text": [
      "/home/kunjithapathams/anaconda3/lib/python3.5/site-packages/sklearn/metrics/classification.py:1113: UndefinedMetricWarning: Precision and F-score are ill-defined and being set to 0.0 in labels with no predicted samples.\n",
      "  'precision', 'predicted', average, warn_for)\n"
     ]
    }
   ],
   "source": [
    "print('starting to feature scaling')\n",
    "\n",
    "from sklearn.preprocessing import StandardScaler\n",
    "scaler = StandardScaler()\n",
    "# Fit only to the training data\n",
    "scaler.fit(X_Train)\n",
    "X_Train = scaler.transform(X_Train)\n",
    "X_Test = scaler.transform(X_Test)\n",
    "\n",
    "print('Feature Scaling Completed')\n",
    "print('Start training')\n",
    "from sklearn.neural_network import MLPClassifier\n",
    "mlp = MLPClassifier(hidden_layer_sizes=(30,30,30))\n",
    "mlp.fit(X_Train,Y_Train)\n",
    "\n",
    "\n",
    "print('Training done...')\n",
    "print('Now start predicting for the validation set')\n",
    "predictions = mlp.predict(X_Test)\n",
    "\n",
    "print('Predictions done')\n",
    "print('evaluate the results')\n",
    "from sklearn.metrics import classification_report,confusion_matrix\n",
    "print(classification_report(Y_Test,predictions))"
   ]
  },
  {
   "cell_type": "code",
   "execution_count": 50,
   "metadata": {
    "collapsed": false
   },
   "outputs": [],
   "source": [
    "for filename in os.listdir('Test/'):  \n",
    "    BGImage = Image.open('defaultBG.png')\n",
    "    img = Image.open('Test/'+filename)\n",
    "    #offset = ((bg_w - img_w) / 2, (bg_h - img_h) / 2)\n",
    "    BGImage.paste(img, (15,15))\n",
    "    BGImage.save('TestBW/'+filename)\n",
    "    \n",
    "print('Test images created...')"
   ]
  },
  {
   "cell_type": "code",
   "execution_count": 53,
   "metadata": {
    "collapsed": false
   },
   "outputs": [
    {
     "name": "stdout",
     "output_type": "stream",
     "text": [
      "starting to reshape the test images\n",
      "(10, 2500)\n",
      "(10, 1)\n",
      "reshaping done...\n",
      "start predicting\n",
      "             precision    recall  f1-score   support\n",
      "\n",
      "        b''       0.00      0.00      0.00         0\n",
      "       b'5'       0.00      0.00      0.00         1\n",
      "       b'6'       0.00      0.00      0.00         1\n",
      "       b'7'       0.00      0.00      0.00         1\n",
      "       b'9'       0.00      0.00      0.00         1\n",
      "       b'A'       0.00      0.00      0.00         1\n",
      "       b'E'       0.00      0.00      0.00         1\n",
      "       b'K'       0.00      0.00      0.00         1\n",
      "       b'M'       0.00      0.00      0.00         0\n",
      "       b'P'       0.00      0.00      0.00         1\n",
      "       b'S'       0.00      0.00      0.00         1\n",
      "       b'W'       0.00      0.00      0.00         1\n",
      "\n",
      "avg / total       0.00      0.00      0.00        10\n",
      "\n"
     ]
    },
    {
     "name": "stderr",
     "output_type": "stream",
     "text": [
      "/home/kunjithapathams/anaconda3/lib/python3.5/site-packages/sklearn/metrics/classification.py:1113: UndefinedMetricWarning: Precision and F-score are ill-defined and being set to 0.0 in labels with no predicted samples.\n",
      "  'precision', 'predicted', average, warn_for)\n",
      "/home/kunjithapathams/anaconda3/lib/python3.5/site-packages/sklearn/metrics/classification.py:1115: UndefinedMetricWarning: Recall and F-score are ill-defined and being set to 0.0 in labels with no true samples.\n",
      "  'recall', 'true', average, warn_for)\n"
     ]
    }
   ],
   "source": [
    "print('starting to reshape the test images')\n",
    "pannumber = ['A','W','S','P','K','5','9','6','7','E']\n",
    "reshaped1 = np.empty([10,2500])\n",
    "Y1=np.chararray([len(pannumber),1])\n",
    "j=0\n",
    "for alpha in pannumber:\n",
    "    filename = 'TestBW/'+alpha+'.PNG'\n",
    "    image = io.imread(filename,'0')    \n",
    "    reshaped1[j] = image.reshape(1,2500)\n",
    "    Y1[j] = alpha\n",
    "    j = j+1\n",
    "\n",
    "print(reshaped1.shape)\n",
    "print(Y1.shape)\n",
    "\n",
    "print('reshaping done...')\n",
    "print('start predicting')\n",
    "X1_Test = scaler.transform(reshaped1)\n",
    "predictions = mlp.predict(X1_Test)\n",
    "print(classification_report(Y1,predictions))\n"
   ]
  },
  {
   "cell_type": "code",
   "execution_count": null,
   "metadata": {
    "collapsed": true
   },
   "outputs": [],
   "source": []
  },
  {
   "cell_type": "code",
   "execution_count": null,
   "metadata": {
    "collapsed": true
   },
   "outputs": [],
   "source": []
  },
  {
   "cell_type": "code",
   "execution_count": null,
   "metadata": {
    "collapsed": true
   },
   "outputs": [],
   "source": [
    "\n",
    "\n"
   ]
  }
 ],
 "metadata": {
  "anaconda-cloud": {},
  "kernelspec": {
   "display_name": "Python [conda root]",
   "language": "python",
   "name": "conda-root-py"
  },
  "language_info": {
   "codemirror_mode": {
    "name": "ipython",
    "version": 3
   },
   "file_extension": ".py",
   "mimetype": "text/x-python",
   "name": "python",
   "nbconvert_exporter": "python",
   "pygments_lexer": "ipython3",
   "version": "3.5.2"
  }
 },
 "nbformat": 4,
 "nbformat_minor": 0
}
