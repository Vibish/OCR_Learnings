{
 "cells": [
  {
   "cell_type": "code",
   "execution_count": 1,
   "metadata": {
    "collapsed": false
   },
   "outputs": [
    {
     "name": "stdout",
     "output_type": "stream",
     "text": [
      "/home/kunjithapathams/Desktop/Data Analytics/OCR/Background\n"
     ]
    }
   ],
   "source": [
    "cd Background"
   ]
  },
  {
   "cell_type": "code",
   "execution_count": 2,
   "metadata": {
    "collapsed": true
   },
   "outputs": [],
   "source": [
    "import random\n",
    "from PIL import Image\n",
    "from PIL import ImageFont\n",
    "from PIL import ImageDraw\n",
    "import os\n",
    "from PIL import Image\n",
    "from skimage import io\n",
    "from skimage import transform as tf\n",
    "import scipy.misc\n",
    "import numpy as np\n",
    "import cv2\n"
   ]
  },
  {
   "cell_type": "code",
   "execution_count": 4,
   "metadata": {
    "collapsed": false
   },
   "outputs": [
    {
     "name": "stdout",
     "output_type": "stream",
     "text": [
      "image created\n"
     ]
    }
   ],
   "source": [
    "#blendImage('A.png')\n",
    "#print('image created')"
   ]
  },
  {
   "cell_type": "code",
   "execution_count": 5,
   "metadata": {
    "collapsed": false
   },
   "outputs": [
    {
     "name": "stdout",
     "output_type": "stream",
     "text": [
      "samples created....\n"
     ]
    }
   ],
   "source": [
    "alphanum = ['A','B','C','D','E','F','G','H','I','J','K','L','M','N','O','P','Q','R','S','T','U','V','W','X','Y','Z','0','1','2','3','4','5','6','7','8','9']\n",
    "fntSizes = [20,21,22,23,24,25,26,27,28,29]\n",
    "filename = 'defaultBG.png'\n",
    "def createsamples(text_pos,alpha,fnt,filename,seq):\n",
    "    bgimage = Image.open(filename)\n",
    "    draw  = ImageDraw.Draw(bgimage)\n",
    "    draw.text(text_pos,alpha,font=fnt)\n",
    "    bgimage.save('samples/'+alpha+'_'+str(seq)+'.png')\n",
    "        \n",
    "for alpha in alphanum:\n",
    "    seq = 1\n",
    "    for fntSize in fntSizes:\n",
    "        for i in range (1,50):\n",
    "            text_Pos = (15,15)                \n",
    "            fnt = ImageFont.truetype('arialbd.ttf', fntSize)\n",
    "            createsamples(text_Pos,alpha,fnt,filename,seq)\n",
    "            seq = seq +1\n",
    "                \n",
    "print ('samples created....')\n",
    "           \n"
   ]
  },
  {
   "cell_type": "code",
   "execution_count": 29,
   "metadata": {
    "collapsed": true
   },
   "outputs": [],
   "source": [
    "def blendImage(img,outputFilename):\n",
    "    \n",
    "\n",
    "    #== Parameters =======================================================================\n",
    "    BLUR = 21\n",
    "    CANNY_THRESH_1 = 10\n",
    "    CANNY_THRESH_2 = 200\n",
    "    MASK_DILATE_ITER = 10\n",
    "    MASK_ERODE_ITER = 10\n",
    "    MASK_COLOR = (1.0,1.0,1.0) # In BGR format\n",
    "\n",
    "\n",
    "    #== Processing =======================================================================\n",
    "\n",
    "    #-- Read image -----------------------------------------------------------------------\n",
    "    #print('samples/'+filename)\n",
    "    #img = cv2.imread(inputFilename)\n",
    "    gray = cv2.cvtColor(img,cv2.COLOR_BGR2GRAY)\n",
    "\n",
    "    #-- Edge detection -------------------------------------------------------------------\n",
    "    edges = cv2.Canny(gray, CANNY_THRESH_1, CANNY_THRESH_2)\n",
    "    edges = cv2.dilate(edges, None)\n",
    "    edges = cv2.erode(edges, None)\n",
    "\n",
    "    #-- Find contours in edges, sort by area ---------------------------------------------\n",
    "    contour_info = []\n",
    "    _,contours, _ = cv2.findContours(edges, cv2.RETR_LIST, cv2.CHAIN_APPROX_NONE)\n",
    "    #_, contours, _= cv2.findContours(skin_ycrcb, cv2.RETR_EXTERNAL, cv2.CHAIN_APPROX_SIMPLE)\n",
    "    for c in contours:\n",
    "        contour_info.append((\n",
    "            c,\n",
    "            cv2.isContourConvex(c),\n",
    "            cv2.contourArea(c),\n",
    "        ))\n",
    "    contour_info = sorted(contour_info, key=lambda c: c[2], reverse=True)\n",
    "    max_contour = contour_info[0]\n",
    "\n",
    "    #-- Create empty mask, draw filled polygon on it corresponding to largest contour ----\n",
    "    # Mask is black, polygon is white\n",
    "    mask = np.zeros(edges.shape)\n",
    "    cv2.fillConvexPoly(mask, max_contour[0], (255))\n",
    "    \n",
    "\n",
    "    #-- Smooth mask, then blur it --------------------------------------------------------\n",
    "    mask = cv2.dilate(mask, None, iterations=MASK_DILATE_ITER)\n",
    "    mask = cv2.erode(mask, None, iterations=MASK_ERODE_ITER)\n",
    "    mask = cv2.GaussianBlur(mask, (BLUR, BLUR), 0)\n",
    "    mask_stack = np.dstack([mask]*3)    # Create 3-channel alpha mask\n",
    "\n",
    "    #-- Blend masked img into MASK_COLOR background --------------------------------------\n",
    "    mask_stack  = mask_stack.astype('float32') / 255.0          # Use float matrices, \n",
    "    img         = img.astype('float32') / 255.0                 #  for easy blending\n",
    "\n",
    "    masked = (mask_stack * img) + ((1-mask_stack) * MASK_COLOR) # Blend\n",
    "    masked = (masked * 255).astype('uint8')                     # Convert back to 8-bit \n",
    "\n",
    "    #cv2.imshow('img', masked)                                   # Display\n",
    "    #cv2.waitKey()\n",
    "    \n",
    "    \n",
    "    #gray_masked = cv2.cvtColor(masked,cv2.COLOR_BGR2GRAY)\n",
    "    #(thresh, im_bw) = cv2.threshold(gray_masked, 128, 255, cv2.THRESH_BINARY | cv2.THRESH_OTSU)\n",
    "    #thresh = 127\n",
    "    #im_bw = cv2.threshold(gray_masked, thresh, 255, cv2.THRESH_BINARY)[1]\n",
    "    \n",
    "    #cv2.imwrite(outputFilename, im_bw)           # Save\n",
    "    cv2.imwrite(outputFilename, masked)           # Save"
   ]
  },
  {
   "cell_type": "code",
   "execution_count": 30,
   "metadata": {
    "collapsed": false
   },
   "outputs": [
    {
     "name": "stdout",
     "output_type": "stream",
     "text": [
      "noice induced\n"
     ]
    }
   ],
   "source": [
    "def noisy(image):\n",
    "    row,col = image.shape\n",
    "    gauss = np.random.randn(row,col)\n",
    "    gauss = gauss.reshape(row,col)        \n",
    "    noisy = image + image * gauss\n",
    "    return noisy\n",
    "\n",
    "for filename in os.listdir('samples/'):        \n",
    "    image = cv2.imread('samples/'+filename)\n",
    "    image = cv2.blur(image,(2,2))\n",
    "    ##print(image)\n",
    "    #cv2.imwrite('samplesBW/'+filename,image)\n",
    "    #image = noisy(image)\n",
    "    #print(filename)\n",
    "    blendImage(image,'samplesBW/'+filename)\n",
    "    #cv2.imwrite('samplesBW/'+filename,image)\n",
    "\n",
    "print('noice induced')\n",
    "\n"
   ]
  },
  {
   "cell_type": "code",
   "execution_count": 31,
   "metadata": {
    "collapsed": false
   },
   "outputs": [
    {
     "name": "stdout",
     "output_type": "stream",
     "text": [
      "start reshaping\n",
      "A\n",
      "B\n",
      "C\n",
      "D\n",
      "E\n",
      "F\n",
      "G\n",
      "H\n",
      "I\n",
      "J\n",
      "K\n",
      "L\n",
      "M\n",
      "N\n",
      "O\n",
      "P\n",
      "Q\n",
      "R\n",
      "S\n",
      "T\n",
      "U\n",
      "V\n",
      "W\n",
      "X\n",
      "Y\n",
      "Z\n",
      "0\n",
      "1\n",
      "2\n",
      "3\n",
      "4\n",
      "5\n",
      "6\n",
      "7\n",
      "8\n",
      "9\n",
      "Reshaping Complete\n",
      "Starting to segregate Training and Validation sets\n",
      "Segregation Completed\n"
     ]
    }
   ],
   "source": [
    "print('start reshaping')\n",
    "alphanum = ['A','B','C','D','E','F','G','H','I','J','K','L','M','N','O','P','Q','R','S','T','U','V','W','X','Y','Z','0','1','2','3','4','5','6','7','8','9']\n",
    "reshaped = np.empty([17640,2500])\n",
    "Y = np.chararray([(len(alphanum))*490,1]) \n",
    "j=0\n",
    "for alpha in alphanum:\n",
    "    print(alpha)\n",
    "    for i in range(1,490):\n",
    "        filename = 'samplesBW/'+alpha+'_'+str(i)+'.png'\n",
    "        image = io.imread(filename,'1')\n",
    "        reshaped[j] = image.reshape(1,2500)\n",
    "        #reshaped = np.concatenate([reshaped,image.reshape(1,2500)])\n",
    "        Y[j] = alpha\n",
    "        j = j+1\n",
    "\n",
    "print('Reshaping Complete')\n",
    "print('Starting to segregate Training and Validation sets')\n",
    "\n",
    "from sklearn.model_selection import train_test_split\n",
    "X_Train,X_Test,Y_Train,Y_Test = train_test_split(reshaped,Y)\n",
    "\n",
    "\n",
    "print('Segregation Completed')"
   ]
  },
  {
   "cell_type": "code",
   "execution_count": 32,
   "metadata": {
    "collapsed": false
   },
   "outputs": [
    {
     "name": "stdout",
     "output_type": "stream",
     "text": [
      "starting to feature scaling\n",
      "Feature Scaling Completed\n",
      "Start training\n"
     ]
    },
    {
     "name": "stderr",
     "output_type": "stream",
     "text": [
      "/home/kunjithapathams/anaconda3/lib/python3.5/site-packages/sklearn/neural_network/multilayer_perceptron.py:904: DataConversionWarning: A column-vector y was passed when a 1d array was expected. Please change the shape of y to (n_samples, ), for example using ravel().\n",
      "  y = column_or_1d(y, warn=True)\n"
     ]
    },
    {
     "name": "stdout",
     "output_type": "stream",
     "text": [
      "Training done...\n",
      "Now start predicting for the validation set\n",
      "Predictions done\n",
      "evaluate the results\n",
      "             precision    recall  f1-score   support\n",
      "\n",
      "        b''       1.00      1.00      1.00        12\n",
      "       b'0'       1.00      0.66      0.79       102\n",
      "       b'1'       0.92      1.00      0.96       127\n",
      "       b'2'       0.62      0.93      0.74       153\n",
      "       b'3'       1.00      0.93      0.97       119\n",
      "       b'4'       0.70      1.00      0.83       109\n",
      "       b'5'       0.87      0.90      0.88       106\n",
      "       b'6'       0.39      0.77      0.52       115\n",
      "       b'7'       0.88      0.73      0.79       117\n",
      "       b'8'       0.00      0.00      0.00       117\n",
      "       b'9'       0.89      0.91      0.90       128\n",
      "       b'A'       0.68      0.47      0.56       123\n",
      "       b'B'       0.73      0.88      0.80       118\n",
      "       b'C'       0.83      1.00      0.91       135\n",
      "       b'D'       0.55      0.89      0.68       114\n",
      "       b'E'       1.00      0.91      0.95       121\n",
      "       b'F'       0.71      1.00      0.83       117\n",
      "       b'G'       1.00      0.80      0.89       129\n",
      "       b'H'       0.85      0.68      0.76       119\n",
      "       b'I'       0.62      1.00      0.77       105\n",
      "       b'J'       1.00      1.00      1.00       131\n",
      "       b'K'       1.00      1.00      1.00       131\n",
      "       b'L'       1.00      0.71      0.83       161\n",
      "       b'M'       1.00      1.00      1.00       119\n",
      "       b'N'       1.00      0.90      0.95       126\n",
      "       b'O'       1.00      0.40      0.58       136\n",
      "       b'P'       0.93      1.00      0.96       122\n",
      "       b'Q'       0.88      1.00      0.94       130\n",
      "       b'R'       0.90      1.00      0.95       105\n",
      "       b'S'       1.00      1.00      1.00       114\n",
      "       b'T'       0.74      0.75      0.74       120\n",
      "       b'U'       0.87      0.76      0.81       113\n",
      "       b'V'       1.00      1.00      1.00       108\n",
      "       b'W'       1.00      1.00      1.00       122\n",
      "       b'X'       1.00      1.00      1.00       124\n",
      "       b'Y'       0.57      0.43      0.49       131\n",
      "       b'Z'       0.80      0.46      0.58       131\n",
      "\n",
      "avg / total       0.83      0.83      0.82      4410\n",
      "\n"
     ]
    },
    {
     "name": "stderr",
     "output_type": "stream",
     "text": [
      "/home/kunjithapathams/anaconda3/lib/python3.5/site-packages/sklearn/metrics/classification.py:1113: UndefinedMetricWarning: Precision and F-score are ill-defined and being set to 0.0 in labels with no predicted samples.\n",
      "  'precision', 'predicted', average, warn_for)\n"
     ]
    }
   ],
   "source": [
    "print('starting to feature scaling')\n",
    "\n",
    "#from sklearn.preprocessing import StandardScaler\n",
    "#scaler = StandardScaler()\n",
    "# Fit only to the training data\n",
    "#scaler.fit(X_Train)\n",
    "#X_Train = scaler.transform(X_Train)\n",
    "#X_Test = scaler.transform(X_Test)\n",
    "\n",
    "print('Feature Scaling Completed')\n",
    "print('Start training')\n",
    "from sklearn.neural_network import MLPClassifier\n",
    "mlp = MLPClassifier(hidden_layer_sizes=(30,30,30))\n",
    "mlp.fit(X_Train,Y_Train)\n",
    "\n",
    "\n",
    "print('Training done...')\n",
    "print('Now start predicting for the validation set')\n",
    "predictions = mlp.predict(X_Test)\n",
    "\n",
    "print('Predictions done')\n",
    "print('evaluate the results')\n",
    "from sklearn.metrics import classification_report,confusion_matrix\n",
    "print(classification_report(Y_Test,predictions))"
   ]
  },
  {
   "cell_type": "code",
   "execution_count": 35,
   "metadata": {
    "collapsed": false
   },
   "outputs": [
    {
     "name": "stdout",
     "output_type": "stream",
     "text": [
      "Test images created...\n"
     ]
    }
   ],
   "source": [
    "#Remove background from source images\n",
    "#for filename in os.listdir('Test/'):  \n",
    "#    image = cv2.imread('Test/'+filename)\n",
    "#    blendImage(image,'TestBW/'+filename)\n",
    "\n",
    "#Paste the images onto a constant background and blend the images    \n",
    "for filename in os.listdir('Test/'):  \n",
    "    BGImage = Image.open('defaultBG.png')\n",
    "    img = Image.open('Test/'+filename)\n",
    "    #offset = ((bg_w - img_w) / 2, (bg_h - img_h) / 2)\n",
    "    BGImage.paste(img, (15,15))\n",
    "    BGImage.save('TestBW/'+filename)\n",
    "    image = cv2.imread('TestBW/'+filename)\n",
    "    blendImage(image,'TestBW/'+filename)\n",
    "    \n",
    "print('Test images created...')\n",
    "\n"
   ]
  },
  {
   "cell_type": "code",
   "execution_count": 36,
   "metadata": {
    "collapsed": false
   },
   "outputs": [
    {
     "name": "stdout",
     "output_type": "stream",
     "text": [
      "starting to reshape the test images\n",
      "(20, 2500)\n",
      "(20, 1)\n",
      "reshaping done...\n",
      "start predicting\n",
      "             precision    recall  f1-score   support\n",
      "\n",
      "       b'5'       0.00      0.00      0.00         2\n",
      "       b'6'       0.00      0.00      0.00         2\n",
      "       b'7'       0.00      0.00      0.00         2\n",
      "       b'9'       0.00      0.00      0.00         2\n",
      "       b'A'       0.00      0.00      0.00         2\n",
      "       b'B'       0.00      0.00      0.00         0\n",
      "       b'E'       1.00      1.00      1.00         2\n",
      "       b'K'       0.00      0.00      0.00         2\n",
      "       b'M'       0.00      0.00      0.00         0\n",
      "       b'N'       0.00      0.00      0.00         0\n",
      "       b'P'       1.00      1.00      1.00         2\n",
      "       b'R'       0.00      0.00      0.00         0\n",
      "       b'S'       0.00      0.00      0.00         2\n",
      "       b'W'       0.00      0.00      0.00         2\n",
      "       b'Y'       0.00      0.00      0.00         0\n",
      "\n",
      "avg / total       0.20      0.20      0.20        20\n",
      "\n"
     ]
    },
    {
     "name": "stderr",
     "output_type": "stream",
     "text": [
      "/home/kunjithapathams/anaconda3/lib/python3.5/site-packages/sklearn/metrics/classification.py:1113: UndefinedMetricWarning: Precision and F-score are ill-defined and being set to 0.0 in labels with no predicted samples.\n",
      "  'precision', 'predicted', average, warn_for)\n",
      "/home/kunjithapathams/anaconda3/lib/python3.5/site-packages/sklearn/metrics/classification.py:1115: UndefinedMetricWarning: Recall and F-score are ill-defined and being set to 0.0 in labels with no true samples.\n",
      "  'recall', 'true', average, warn_for)\n"
     ]
    }
   ],
   "source": [
    "print('starting to reshape the test images')\n",
    "pannumber = ['A','W','S','P','K','5','9','6','7','E']\n",
    "reshaped1 = np.empty([20,2500])\n",
    "Y1=np.chararray([len(pannumber)*2,1])\n",
    "j=0\n",
    "for alpha in pannumber:\n",
    "    for i in range (1,3):\n",
    "        filename = 'TestBW/'+alpha+'_'+str(i)+'.PNG'\n",
    "        #print(filename)\n",
    "        image = io.imread(filename,'1')    \n",
    "        #print(image)\n",
    "        reshaped1[j] = image.reshape(1,2500)\n",
    "        Y1[j] = alpha\n",
    "        j = j+1\n",
    "\n",
    "print(reshaped1.shape)\n",
    "print(Y1.shape)\n",
    "\n",
    "print('reshaping done...')\n",
    "print('start predicting')\n",
    "#X1_Test = scaler.transform(reshaped1)\n",
    "predictions = mlp.predict(reshaped1)\n",
    "print(classification_report(Y1,predictions))"
   ]
  },
  {
   "cell_type": "code",
   "execution_count": 43,
   "metadata": {
    "collapsed": false
   },
   "outputs": [
    {
     "name": "stdout",
     "output_type": "stream",
     "text": [
      "0\n",
      "A\n",
      "found A\n",
      "B\n",
      "C\n",
      "D\n"
     ]
    }
   ],
   "source": [
    "ct = 0\n",
    "for character in Y_Test:\n",
    "    #print(character)\n",
    "    if character == '0':\n",
    "        print(character)\n",
    "        ct = ct +1\n",
    "print(ct)\n",
    "\n",
    "temp = ['A','B','C','D']\n",
    "for character in temp:\n",
    "    print(character)\n",
    "    if character == 'A':\n",
    "        print('found A')\n",
    "        \n"
   ]
  },
  {
   "cell_type": "code",
   "execution_count": null,
   "metadata": {
    "collapsed": true
   },
   "outputs": [],
   "source": []
  }
 ],
 "metadata": {
  "anaconda-cloud": {},
  "kernelspec": {
   "display_name": "Python [conda root]",
   "language": "python",
   "name": "conda-root-py"
  },
  "language_info": {
   "codemirror_mode": {
    "name": "ipython",
    "version": 3
   },
   "file_extension": ".py",
   "mimetype": "text/x-python",
   "name": "python",
   "nbconvert_exporter": "python",
   "pygments_lexer": "ipython3",
   "version": "3.5.2"
  }
 },
 "nbformat": 4,
 "nbformat_minor": 0
}
