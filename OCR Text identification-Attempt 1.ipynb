{
 "cells": [
  {
   "cell_type": "code",
   "execution_count": null,
   "metadata": {
    "collapsed": true
   },
   "outputs": [],
   "source": []
  },
  {
   "cell_type": "code",
   "execution_count": 24,
   "metadata": {
    "collapsed": false
   },
   "outputs": [],
   "source": [
    "import cv2\n",
    "import numpy as np\n",
    "def detectLetters(img,kernelSize,rtvMode,approx):    \n",
    "    boundRect = [None]\n",
    "    img_gray = cv2.cvtColor(img,cv2.COLOR_BGR2GRAY)\n",
    "    cv2.imwrite('originals/gray.png',img_gray)\n",
    "    img_sobel = cv2.Sobel(img_gray,cv2.CV_8U,1,0,ksize = 1,scale=1,delta=0,borderType=cv2.BORDER_DEFAULT)\n",
    "    #cv2.imwrite('originals/sobel.png',img_sobel)\n",
    "    #(thresh,img_threshold) = cv2.threshold(img_sobel,0,255,cv2.THRESH_OTSU+cv2.THRESH_BINARY)   \n",
    "    \n",
    "    img_threshold = cv2.threshold(img_gray,0,255,cv2.THRESH_OTSU+cv2.THRESH_BINARY_INV)[1]\n",
    "    cv2.imwrite('originals/threshold.png',img_threshold)\n",
    "    #element = cv2.getStructuringElement (cv2.MORPH_RECT, (15, 3) )\n",
    "    element = cv2.getStructuringElement (cv2.MORPH_RECT, kernelSize )\n",
    "    img_threshold = cv2.morphologyEx(img_threshold,cv2.MORPH_CLOSE,element)\n",
    "    cv2.imwrite('originals/threshold2.png',img_threshold)\n",
    "    #im2,contours,hierarchy = cv2.findContours(img_threshold,cv2.RETR_TREE,cv2.CHAIN_APPROX_SIMPLE)\n",
    "    #im2,contours,hierarchy = cv2.findContours(img_threshold,cv2.RETR_LIST,cv2.CHAIN_APPROX_NONE)\n",
    "    im2,contours,hierarchy = cv2.findContours(img_threshold,rtvMode,approx)\n",
    "    #im2,contours,hierarchy = cv2.findContours(img_threshold,0,1) \n",
    "    \n",
    "    \n",
    "    contours_poly = [None]*len(contours)\n",
    "    for i in range(0,len(contours)):\n",
    "        if len(contours[i])>100:            \n",
    "            contours_poly[i]=(cv2.approxPolyDP(contours[i], 3, True))            \n",
    "            x,y,w,h = cv2.boundingRect(contours_poly[i])            \n",
    "            if w>h:\n",
    "                temp = x,y,w,h\n",
    "                boundRect.append(temp)\n",
    "    return boundRect\n",
    "\n",
    "def extractTextArea(inputFile,outputFile,kernelSize,rtvMode,approx):\n",
    "    #implementation    \n",
    "    img = cv2.imread(inputFile)\n",
    "    print(inputFile+'=')\n",
    "    print(img.shape)\n",
    "    letterBBoxes=detectLetters(img,kernelSize,rtvMode,approx)\n",
    "    for i in range(0,len(letterBBoxes)-1):\n",
    "        if letterBBoxes[i] != None:        \n",
    "            temp = letterBBoxes[i]\n",
    "            cv2.rectangle(img,(temp[0],temp[1]),(temp[0]+temp[2],temp[1]+temp[3]),(0,255,0),3)\n",
    "            crop_image = img[temp[1]:temp[1]+temp[3], temp[0]:temp[0]+temp[2]]\n",
    "            cv2.imwrite('originals/'+str(i)+'.png',crop_image)\n",
    "\n",
    "    cv2.imwrite(outputFile,img)\n",
    "    print('all done...')\n"
   ]
  },
  {
   "cell_type": "code",
   "execution_count": 28,
   "metadata": {
    "collapsed": false
   },
   "outputs": [
    {
     "name": "stdout",
     "output_type": "stream",
     "text": [
      "originals/Pancard.png=\n",
      "(1932, 3076, 3)\n",
      "all done...\n",
      "originals/PAN-CARD.png=\n",
      "(376, 591, 3)\n",
      "all done...\n",
      "originals/Pancard_Web_2.png=\n",
      "(835, 1146, 3)\n",
      "all done...\n",
      "originals/Pancard_Web_3.png=\n",
      "(1424, 2178, 3)\n",
      "all done...\n"
     ]
    }
   ],
   "source": [
    "kernelSize = (30,30)\n",
    "extractTextArea('originals/Pancard.png','originals/Pancard2.png',kernelSize,cv2.RETR_TREE,cv2.CHAIN_APPROX_NONE)\n",
    "\n",
    "kernelSize = (17,3)\n",
    "extractTextArea('originals/PAN-CARD.png','originals/Pancard3.png',kernelSize,cv2.RETR_TREE,cv2.CHAIN_APPROX_NONE)\n",
    "\n",
    "kernelSize = (17,3)\n",
    "extractTextArea('originals/Pancard_Web_2.png','originals/Pancard2_1.png',kernelSize,cv2.RETR_TREE,cv2.CHAIN_APPROX_NONE)\n",
    "\n",
    "kernelSize = (17,3)\n",
    "extractTextArea('originals/Pancard_Web_3.png','originals/Pancard3_1.png',kernelSize,cv2.RETR_TREE,cv2.CHAIN_APPROX_NONE)"
   ]
  },
  {
   "cell_type": "code",
   "execution_count": 3,
   "metadata": {
    "collapsed": false
   },
   "outputs": [
    {
     "name": "stdout",
     "output_type": "stream",
     "text": [
      "contrast increased....\n"
     ]
    }
   ],
   "source": [
    "import imutils\n",
    "import cv2\n",
    "import numpy as np\n",
    "import tensorflow as tf\n",
    "# load the image and compute the ratio of the old height\n",
    "# to the new height, clone it, and resize it\n",
    "img = cv2.imread('originals/Pancard_Web_3.png')\n",
    "#increase contrast of the image\n",
    "alpha = 1.7\n",
    "beta = 60\n",
    "X,Y,H = img.shape\n",
    "image = np.empty([X,Y,H])\n",
    "for x in range(0,X-1):\n",
    "    for y in range(0,Y-1):\n",
    "        for c in range(0,2):\n",
    "            temp = (alpha*img[x,y,c])+beta\n",
    "            if temp>255:\n",
    "                temp = 255\n",
    "            image[x,y,c] =temp\n",
    "cv2.imwrite('originals/dltme.png',image)\n",
    "        \n",
    "print('contrast increased....')"
   ]
  },
  {
   "cell_type": "code",
   "execution_count": 15,
   "metadata": {
    "collapsed": false
   },
   "outputs": [
    {
     "name": "stdout",
     "output_type": "stream",
     "text": [
      "STEP 1: Edge Detection\n",
      "Binary dialation done...\n",
      "STEP 2: Find contours of paper\n",
      "Contours done\n"
     ]
    }
   ],
   "source": [
    "import imutils\n",
    "import cv2\n",
    "import numpy as np\n",
    "import tensorflow as tf\n",
    "image = cv2.imread('originals/Pancard_Web_3.png')\n",
    "#image = cv2.imread('originals/Pancard.png')\n",
    "\n",
    "ratio = image.shape[0] / 500.0\n",
    "orig = image.copy()\n",
    "image = imutils.resize(image, height = 500)\n",
    " \n",
    "# convert the image to grayscale, blur it, and find edges\n",
    "# in the image\n",
    "gray = cv2.cvtColor(image, cv2.COLOR_BGR2GRAY)\n",
    "gray = cv2.GaussianBlur(gray, (5, 5), 0)\n",
    "edged = cv2.Canny(gray, 75, 200)\n",
    " \n",
    "# show the original image and the edge detected image\n",
    "cv2.imwrite('originals/dltme1.png',edged)\n",
    "print (\"STEP 1: Edge Detection\")\n",
    "\n",
    "#cv2.imshow(\"Image\", image)\n",
    "#cv2.imshow(\"Edged\", edged)\n",
    "#cv2.waitKey(0)\n",
    "#cv2.destroyAllWindows()\n",
    "\n",
    "\n",
    "#Binary Dialation\n",
    "kernelSize = (17,3)\n",
    "element = cv2.getStructuringElement (cv2.MORPH_RECT, kernelSize )\n",
    "edged = cv2.morphologyEx(edged,cv2.MORPH_CLOSE,element)\n",
    "cv2.imwrite('originals/dltme2.png',edged)\n",
    "print('Binary dialation done...')\n",
    "\n",
    "# find the contours in the edged image, keeping only the\n",
    "# largest ones, and initialize the screen contour\n",
    "#(cnts, _) = cv2.findContours(edged.copy(), cv2.RETR_LIST, cv2.CHAIN_APPROX_SIMPLE)\n",
    "(_,cnts,_ ) = cv2.findContours(edged.copy(), cv2.RETR_LIST, cv2.CHAIN_APPROX_NONE)\n",
    "cnts = sorted(cnts, key = cv2.contourArea, reverse = True)[:5]\n",
    " \n",
    "# loop over the contours\n",
    "for c in cnts:\n",
    "    # approximate the contour\n",
    "    peri = cv2.arcLength(c, True)\n",
    "    approx = cv2.approxPolyDP(c, 0.02 * peri, True)\n",
    " \n",
    "    # if our approximated contour has four points, then we\n",
    "    # can assume that we have found our screen\n",
    "    if len(approx) == 4:\n",
    "        screenCnt = approx\n",
    "        break\n",
    " \n",
    "# show the contour (outline) of the piece of paper\n",
    "print (\"STEP 2: Find contours of paper\")\n",
    "\n",
    "cv2.drawContours(image, [screenCnt], -1, (0, 255, 0), 2)\n",
    "cv2.imwrite('originals/dltme3.png',image)\n",
    "print('Contours done')\n",
    "#cv2.imshow(\"Outline\", image)\n",
    "#cv2.waitKey(0)\n",
    "#cv2.destroyAllWindows()"
   ]
  },
  {
   "cell_type": "code",
   "execution_count": null,
   "metadata": {
    "collapsed": false
   },
   "outputs": [
    {
     "name": "stdout",
     "output_type": "stream",
     "text": [
      "STEP 2: Find contours of paper\n"
     ]
    }
   ],
   "source": []
  },
  {
   "cell_type": "code",
   "execution_count": null,
   "metadata": {
    "collapsed": true
   },
   "outputs": [],
   "source": []
  }
 ],
 "metadata": {
  "anaconda-cloud": {},
  "kernelspec": {
   "display_name": "Python [default]",
   "language": "python",
   "name": "python3"
  },
  "language_info": {
   "codemirror_mode": {
    "name": "ipython",
    "version": 3
   },
   "file_extension": ".py",
   "mimetype": "text/x-python",
   "name": "python",
   "nbconvert_exporter": "python",
   "pygments_lexer": "ipython3",
   "version": "3.5.2"
  }
 },
 "nbformat": 4,
 "nbformat_minor": 1
}
